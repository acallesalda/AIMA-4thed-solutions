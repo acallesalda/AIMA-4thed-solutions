{
 "cells": [
  {
   "cell_type": "markdown",
   "metadata": {},
   "source": [
    "# 1. Introduction\n",
    "\n",
    "- Unifying theme of the book: the idea of implementing intelligent agents. AI is then the attempt to build this intelligent entities.\n",
    "- Agents implements function which map percept sequence to actions.\n",
    "- AI is relevant to any intellectual taks, i.e., it is an universal field.\n",
    "- AI can be defined as thinking humanly, acting humanly, thinking rationally or acting rationally.\n",
    "- __Turing Test__: Designed to provide an operational definition of intelligence (a computer passes the Turing test if a human can't determine if the test taker was a human or a computer). In order for a program to pass the Turing test, it must possess: NLP, Knowledge representation, automated reasoning, machine learning.\n",
    "- __Total Turing Test__: Turing Test + Interaction with a video feed and manipulation of certain physical objects. This also requieres computer vision and robotics. \n",
    "- The disciplines necessary for Total Turing Test combine most of AI.\n",
    "- Cognitive Science construct precise testable theories of the human mind.\n",
    "- __Logicists__: Current in AI which build proble solver in logical notation.\n",
    "- __\"Laws of tought approach\"__: Rational agents, emphasis on correct inferences.\n",
    "- __Limited Rationality__: Acting appropiately with constrained time.\n",
    "- For AI to be where it is today, advances in philosophy, mathematics, economics, neuroscience, psychology, computer engineering, control theory, cybernetics and linguistics were made.\n",
    "- First AI research was McCulloch and Pitts (1943), based on neural structures. Later, Marvin Minsky and Dean Edmonds built the first Neural Network computed in 1950.\n",
    "- Alan Turing set out a programme for AI in 1950. \n",
    "- The term AI is born, coined by McCarthy who organized a two-month workshop at Dartmouth. Newell and Simon stole the show in the conference with a Logic Solver.\n",
    "- After its inception, AI saw breakthrough after breakthrough on specific problems, but it was hampered by scarse and expensive computer resources.\n",
    "- John McCarthy creates LISP in 1958.\n",
    "- Optimism in AI was met by little progress (60s-70s).\n",
    "- Knowledge intensive systems developed for specific problems start to trive (Expert Systems).\n",
    "- Expert systems were a billion dollar industry that failed to deliver on its promises. We enter the AI winter.\n",
    "- Neural Networks return. Rise of the connectionist models, competitors to the symbolic and logicist approaches.\n",
    "- AI booms and becomes more rigurous. Embraces the advances made in control theory and statistics.\n",
    "- Bayesian Networks emerge to deal with uncertainty.\n",
    "- Despite sucesses, infulential founders have expresed discomfort with the direction AI is following recently: it is good for indificual tasks but not good for general reasoning.\n",
    "- In the age of big data, more emphasis on data than on algorithms."
   ]
  }
 ],
 "metadata": {
  "kernelspec": {
   "display_name": "Python 3",
   "language": "python",
   "name": "python3"
  },
  "language_info": {
   "codemirror_mode": {
    "name": "ipython",
    "version": 3
   },
   "file_extension": ".py",
   "mimetype": "text/x-python",
   "name": "python",
   "nbconvert_exporter": "python",
   "pygments_lexer": "ipython3",
   "version": "3.8.3"
  }
 },
 "nbformat": 4,
 "nbformat_minor": 4
}
